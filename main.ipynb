{
 "cells": [
  {
   "cell_type": "code",
   "id": "initial_id",
   "metadata": {
    "collapsed": true,
    "ExecuteTime": {
     "end_time": "2024-07-31T15:38:38.293561Z",
     "start_time": "2024-07-31T15:38:36.704564Z"
    }
   },
   "source": [
    "import pandas as pd\n",
    "import nltk\n",
    "import spacy\n",
    "import scipy\n",
    "import os"
   ],
   "outputs": [],
   "execution_count": 1
  },
  {
   "metadata": {
    "ExecuteTime": {
     "end_time": "2024-07-31T15:40:45.337457Z",
     "start_time": "2024-07-31T15:40:45.333173Z"
    }
   },
   "cell_type": "code",
   "source": [
    "def read_data(path=\"./dataset\", key=\"key\"):\n",
    "    files = os.listdir(path)\n",
    "    print(files)\n",
    "    df = pd.concat([pd.read_csv(f\"{path}/{file}\") for file in files ], ignore_index=True)\n",
    "    return df"
   ],
   "id": "b89ecfb20ff8801c",
   "outputs": [],
   "execution_count": 8
  },
  {
   "metadata": {
    "jupyter": {
     "is_executing": true
    },
    "ExecuteTime": {
     "start_time": "2024-07-31T15:40:46.024818Z"
    }
   },
   "cell_type": "code",
   "source": "df = read_data()",
   "id": "b34fc2639463b3fe",
   "outputs": [
    {
     "name": "stdout",
     "output_type": "stream",
     "text": [
      "['Books_5_part6.csv', 'Office_Products_5_part0.csv', 'Clothing_Shoes_and_Jewelry_5_part2.csv', 'Books_5_part5.csv', 'Clothing_Shoes_and_Jewelry_5_part0.csv', 'Industrial_and_Scientific_5_part0.csv', 'Clothing_Shoes_and_Jewelry_5_part1.csv', 'Books_5_part4.csv', 'Books_5_part0.csv', 'Books_5_part1.csv', 'Books_5_part3.csv', 'Kindle_Store_5_part0.csv', 'Appliances_5_part0.csv', 'Patio_Lawn_and_Garden_5_part0.csv', 'Books_5_part2.csv', 'Tools_and_Home_Improvement_5_part0.csv', 'Pet_Supplies_5_part0.csv', 'Arts_Crafts_and_Sewing_5_part0.csv', 'Movies_and_TV_5_part0.csv', 'AMAZON_FASHION_5_part0.csv', 'Software_5_part0.csv', 'Automotive_5_part0.csv', 'All_Beauty_5_part0.csv', 'Prime_Pantry_5_part0.csv', 'Sports_and_Outdoors_5_part0.csv', 'Toys_and_Games_5_part0.csv', 'Gift_Cards_5_part0.csv', 'Digital_Music_5_part0.csv', 'Home_and_Kitchen_5_part1.csv', 'Grocery_and_Gourmet_Food_5_part0.csv', 'Video_Games_5_part0.csv', 'Home_and_Kitchen_5_part0.csv', 'Magazine_Subscriptions_5_part0.csv', 'Luxury_Beauty_5_part0.csv', 'Cell_Phones_and_Accessories_5_part0.csv', 'CDs_and_Vinyl_5_part0.csv', 'Electronics_5_part0.csv', 'Electronics_5_part1.csv', 'Musical_Instruments_5_part0.csv']\n"
     ]
    }
   ],
   "execution_count": null
  },
  {
   "metadata": {
    "jupyter": {
     "is_executing": true
    }
   },
   "cell_type": "code",
   "source": "df",
   "id": "12156a193f4385e4",
   "outputs": [],
   "execution_count": null
  },
  {
   "metadata": {},
   "cell_type": "code",
   "outputs": [],
   "execution_count": null,
   "source": "",
   "id": "47b52c7e42accaa3"
  }
 ],
 "metadata": {
  "kernelspec": {
   "display_name": "Python 3",
   "language": "python",
   "name": "python3"
  },
  "language_info": {
   "codemirror_mode": {
    "name": "ipython",
    "version": 2
   },
   "file_extension": ".py",
   "mimetype": "text/x-python",
   "name": "python",
   "nbconvert_exporter": "python",
   "pygments_lexer": "ipython2",
   "version": "2.7.6"
  }
 },
 "nbformat": 4,
 "nbformat_minor": 5
}
